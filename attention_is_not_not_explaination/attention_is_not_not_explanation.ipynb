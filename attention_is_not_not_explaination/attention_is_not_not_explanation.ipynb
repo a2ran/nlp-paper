{
 "cells": [
  {
   "cell_type": "markdown",
   "id": "fdc7dcf3",
   "metadata": {},
   "source": [
    "Attention is not not Explanation paper review\n",
    "\n",
    "- DSL 논문 스터디 6기 손예진님이 발제하신 내용을 기반으로 작성했습니다."
   ]
  },
  {
   "cell_type": "markdown",
   "id": "bccb30ae",
   "metadata": {},
   "source": [
    "## Attention is not Explanation\n",
    "\n",
    "Jain and Wallace (2019, NAACL) proved in their thesis <br>\n",
    "that attention is not a faithful explanation to a model<br>\n",
    "due to the fact that:\n",
    "\n",
    "<img src = '9.png'>\n",
    "\n",
    "**Experiment 1 :** Attention Weights is not related to Feature Importance. <br>\n",
    "However the correlation between Feature Importance is significant.\n",
    "\n",
    "**Experiment 2 :** There can be multiple attention for a single output. <br>\n",
    "The difference between Adversarial attention with original attention is miniscule."
   ]
  },
  {
   "cell_type": "markdown",
   "id": "52ebc830",
   "metadata": {},
   "source": [
    "## Attention is not not Explanation\n",
    "\n",
    "However, Wiegreffe and Pinter (2019) **partially** rebuked Jain and Wallace's claim by acknowledging that Attention Weights is not related to Feature Importance,<br>\n",
    "but **Experiment 2** on **adversarial attention** contains structural problem.\n",
    "\n",
    "Attention model is not independent from other parameters. Wiegreffe stated that Jain's experimentation did not fully consider **Degree of Freedom** since adjusting attention based on **instances** does not qualify **independence**."
   ]
  },
  {
   "cell_type": "markdown",
   "id": "11da1039",
   "metadata": {},
   "source": [
    "## Is Attention Useful in First Place?\n",
    "\n",
    "<img src = '10.png'>\n",
    "\n",
    "Wiegreffe first proved attention model's usefulness by comparing the **performance difference** between the attention model and the base model (uiform model).\n",
    "\n",
    "As a result, it is shown that attention takes a role on performance improvements."
   ]
  },
  {
   "cell_type": "markdown",
   "id": "70c5d121",
   "metadata": {},
   "source": [
    "## Is Attention Robust in First Place?\n",
    "\n",
    "<img src = '11.png'>\n",
    "\n",
    "Wiegreffe hypothesized that if attention model is **malleble** regarding to the random seed, there is no need for testing adversarial attention model.\n",
    "\n",
    "It is shown that attention model is **robust and hard to manipulate** despite changing its random seed."
   ]
  },
  {
   "cell_type": "markdown",
   "id": "862d6e14",
   "metadata": {},
   "source": [
    "## Experiments\n",
    "\n",
    "<img src = '12.png'>\n",
    "\n",
    "**Attention** : Each token's attention score is calculated by attention parameters.\n",
    "\n",
    "**Context of Tokens** : LSTM layer of each token's context\n",
    "\n",
    "Wiegreffe claims that to figure out the true value of the attention model, one should remove the **context of tokens** section and emphasize the **attention** section.\n",
    "\n",
    "<img src = '13.png'>\n",
    "\n",
    "To remove the context of tokens section, Wiegreffe transformed LSTM layer into **MLP layer** of each tokens, and **imposed weights** on each tokens."
   ]
  },
  {
   "cell_type": "markdown",
   "id": "0939c5d8",
   "metadata": {},
   "source": [
    "## Results\n",
    "\n",
    "<img src = '14.png'>\n",
    "\n",
    "Wiegreffe trained the model via four attention weights.\n",
    "\n",
    "1. Uniform (base model)\n",
    "2. Base LSTM (attention freeze)\n",
    "3. Trained MLP\n",
    "4. Adversial attention\n",
    "\n",
    "It is shown that uniform attention has the **lowest** performance among the models<br>\n",
    "-> attention models influence the performance of the model.\n",
    "\n",
    "Trained MLP and base LSTM shows no significant difference.\n",
    "\n",
    "Adversary attention's performance is **significantly worsened**.<br>"
   ]
  },
  {
   "cell_type": "markdown",
   "id": "a763ebac",
   "metadata": {},
   "source": [
    "## Conclusion\n",
    "\n",
    "1. Attention improves the overal performance of the model since every attention model shows better performance than the uniform model.\n",
    "\n",
    "2. Attention model is trainable without context since Trained MLP shows similar performance than the Base LSTM model.\n",
    "\n",
    "3. Attention model is difficult to manipulate."
   ]
  },
  {
   "cell_type": "code",
   "execution_count": null,
   "id": "96ffc13b",
   "metadata": {},
   "outputs": [],
   "source": []
  }
 ],
 "metadata": {
  "kernelspec": {
   "display_name": "Python 3 (ipykernel)",
   "language": "python",
   "name": "python3"
  },
  "language_info": {
   "codemirror_mode": {
    "name": "ipython",
    "version": 3
   },
   "file_extension": ".py",
   "mimetype": "text/x-python",
   "name": "python",
   "nbconvert_exporter": "python",
   "pygments_lexer": "ipython3",
   "version": "3.9.12"
  }
 },
 "nbformat": 4,
 "nbformat_minor": 5
}
